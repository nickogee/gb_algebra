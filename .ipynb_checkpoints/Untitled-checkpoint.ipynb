{
 "cells": [
  {
   "cell_type": "markdown",
   "id": "914943bb",
   "metadata": {},
   "source": [
    "### Практическое задание 1\n",
    "\n",
    "#### Исследовать на линейную зависимость:\n",
    "\n",
    "𝑓1(𝑥)=𝑒^𝑥,𝑓2(𝑥)=1,𝑓3(𝑥)=𝑥+1,𝑓4(𝑥)=𝑥−𝑒^𝑥."
   ]
  },
  {
   "cell_type": "markdown",
   "id": "96474330",
   "metadata": {},
   "source": [
    "Выразим 𝑓4(𝑥) через другие вектора:\n",
    "𝑓4(𝑥) = 𝑓3(𝑥) - 𝑓2(𝑥) - 𝑓1(𝑥)"
   ]
  },
  {
   "cell_type": "markdown",
   "id": "9a48b5ae",
   "metadata": {},
   "source": [
    "𝑥−𝑒^𝑥 = 𝑥+1 - 1 - 𝑒^𝑥"
   ]
  },
  {
   "cell_type": "markdown",
   "id": "5b345616",
   "metadata": {},
   "source": [
    "Векторы линейно-зависимы"
   ]
  },
  {
   "cell_type": "markdown",
   "id": "8c4e7d05",
   "metadata": {},
   "source": [
    "𝑓1(𝑥)=2, 𝑓2(𝑥)=𝑥, 𝑓3(𝑥)=𝑥^2, 𝑓4(𝑥)=(𝑥+1)^2"
   ]
  },
  {
   "cell_type": "markdown",
   "id": "b3206abf",
   "metadata": {},
   "source": [
    " 𝑓4(𝑥)= 𝑓3(𝑥) + 2*𝑓2(𝑥) + 1/2 𝑓1(𝑥)"
   ]
  },
  {
   "cell_type": "markdown",
   "id": "6e69d4ef",
   "metadata": {},
   "source": [
    "(𝑥+1)^2 = x^2 + 2x +1"
   ]
  },
  {
   "cell_type": "markdown",
   "id": "a2f58e4b",
   "metadata": {},
   "source": [
    "Векторы линейно-зависимы"
   ]
  },
  {
   "cell_type": "markdown",
   "id": "57b0324a",
   "metadata": {},
   "source": [
    "#### Найти координаты вектора  "
   ]
  },
  {
   "cell_type": "markdown",
   "id": "de3cfdff",
   "metadata": {},
   "source": [
    "𝑥=(2,3,5)∈ℝ3  в базисе  𝑏1=(0,0,10) ,  𝑏2=(2,0,0) ,  𝑏3=(0,1,0)"
   ]
  },
  {
   "cell_type": "markdown",
   "id": "b0f06af4",
   "metadata": {},
   "source": [
    "x = 1/2*b1 + b2 + 3*b3"
   ]
  },
  {
   "cell_type": "markdown",
   "id": "620ba226",
   "metadata": {},
   "source": [
    "x = (1/2; 1; 3)"
   ]
  },
  {
   "cell_type": "markdown",
   "id": "434c531c",
   "metadata": {},
   "source": [
    "#### Найти координаты вектора  \n",
    "3𝑥^2−2𝑥+2∈ℝ3[𝑥] :\n",
    "\n",
    "а) в базисе  1 ,  𝑥 ,  𝑥^2 ;\n",
    "\n",
    "б) в базисе  𝑥^2 ,  𝑥−1 ,  1 ."
   ]
  },
  {
   "cell_type": "markdown",
   "id": "f8490b4d",
   "metadata": {},
   "source": [
    "x=2 ⋅(1)−2⋅(x ) + 3⋅(x^2)"
   ]
  },
  {
   "cell_type": "markdown",
   "id": "27e08597",
   "metadata": {},
   "source": [
    "a) 2; -2; 3)"
   ]
  },
  {
   "cell_type": "markdown",
   "id": "8aa2a920",
   "metadata": {},
   "source": [
    "3x^2 - 2x + 4 - 2"
   ]
  },
  {
   "cell_type": "markdown",
   "id": "30c9cc2e",
   "metadata": {},
   "source": [
    "б) (3; -2; 0)"
   ]
  },
  {
   "cell_type": "markdown",
   "id": "2e790e76",
   "metadata": {},
   "source": [
    "#### Установить, является ли линейным подпространством:\n",
    "а) совокупность всех векторов трехмерного пространства, у которых по крайней мере одна из первых двух координат равна нулю;\n",
    "\n",
    "б) все векторы, являющиеся линейными комбинациями данных векторов  {𝑢1,𝑢2,…,𝑢𝑛} ."
   ]
  },
  {
   "cell_type": "markdown",
   "id": "f2d8a1ca",
   "metadata": {},
   "source": [
    "а) \n",
    "(0; 1; 1) + (0; 0; 1) = (0; 1; 2) ДА\n",
    "\n",
    "(0; 1; 0) + (0; 0; 1) = (0; 1; 1) ДА\n",
    "\n",
    "(0; 1; 1) + (1; 0; 1) = (1; 1; 2) НЕТ"
   ]
  },
  {
   "cell_type": "markdown",
   "id": "08876003",
   "metadata": {},
   "source": [
    "б)\n",
    "a = λ1u1 + λ2u2+ ... + λnun\n",
    "\n",
    "b = μ1u1 + μ2u2 + ... + μnun\n",
    "\n",
    "a + b = (λ1 + μ1)u1 + (λ2 + μ2)u2 + ... (λn + μn)un\n",
    "\n",
    "α ⋅ a = αλ1u1 + αλ2u2 + ... αλnun\n",
    "\n",
    "β ⋅ b = βμ1u1 + βμ2u2 + ... βμnu\n",
    "\n",
    "сумма и умножение на константу также являются линейными\n",
    "комбинациями данных векторов\n",
    "оба условия выполняются значит совокупность является линейным ,\n",
    "подпространством"
   ]
  },
  {
   "cell_type": "markdown",
   "id": "2ebcea36",
   "metadata": {},
   "source": [
    "### Практическое задание 2"
   ]
  },
  {
   "cell_type": "markdown",
   "id": "5bf46ff8",
   "metadata": {},
   "source": [
    "#### Найти скалярное произведение векторов  𝑥,𝑦∈ℝ :\n",
    "\n",
    "а)  𝑥=(0,−3,6), 𝑦=(−4,7,9); \n",
    "\n",
    "б)  𝑥=(7,−4,0,1), 𝑦=(−3,1,11,2)."
   ]
  },
  {
   "cell_type": "code",
   "execution_count": 5,
   "id": "f0a243bd",
   "metadata": {},
   "outputs": [],
   "source": [
    "def vector_m(a, b):\n",
    "    result = 0\n",
    "    for x, y in zip(a, b):\n",
    "        result += x * y\n",
    "    return result"
   ]
  },
  {
   "cell_type": "code",
   "execution_count": 6,
   "id": "fdd60300",
   "metadata": {},
   "outputs": [
    {
     "data": {
      "text/plain": [
       "[(0, -4), (-3, 7), (6, 9)]"
      ]
     },
     "execution_count": 6,
     "metadata": {},
     "output_type": "execute_result"
    }
   ],
   "source": [
    "x = [0, -3, 6]\n",
    "y = [-4, 7, 9]\n",
    "list(zip(x, y))\n"
   ]
  },
  {
   "cell_type": "code",
   "execution_count": 7,
   "id": "2a4d8b8b",
   "metadata": {},
   "outputs": [
    {
     "name": "stdout",
     "output_type": "stream",
     "text": [
      "a) 33\n"
     ]
    }
   ],
   "source": [
    "print(f'a) {vector_m(x, y)}')"
   ]
  },
  {
   "cell_type": "code",
   "execution_count": 8,
   "id": "b1054bf7",
   "metadata": {},
   "outputs": [
    {
     "data": {
      "text/plain": [
       "[(7, -3), (-4, 1), (0, 11), (1, 2)]"
      ]
     },
     "execution_count": 8,
     "metadata": {},
     "output_type": "execute_result"
    }
   ],
   "source": [
    "x = [7, -4, 0, 1]\n",
    "y = [-3, 1, 11, 2]\n",
    "list(zip(x, y))"
   ]
  },
  {
   "cell_type": "code",
   "execution_count": 9,
   "id": "2537e7f2",
   "metadata": {},
   "outputs": [
    {
     "name": "stdout",
     "output_type": "stream",
     "text": [
      "б) -23\n"
     ]
    }
   ],
   "source": [
    "print(f'б) {vector_m(x, y)}')"
   ]
  },
  {
   "cell_type": "markdown",
   "id": "558c5779",
   "metadata": {},
   "source": [
    "#### Найдите нормы векторов и и угол между ними (4,2,4) (12,3,4) ."
   ]
  },
  {
   "cell_type": "code",
   "execution_count": 10,
   "id": "f2c47d71",
   "metadata": {},
   "outputs": [],
   "source": [
    "import numpy as np\n",
    "import math"
   ]
  },
  {
   "cell_type": "code",
   "execution_count": 12,
   "id": "eb01fce7",
   "metadata": {},
   "outputs": [
    {
     "name": "stdout",
     "output_type": "stream",
     "text": [
      "norm(x) = 6.0, norm(y) = 13.0, phi = 26.176952171666542 degrees\n"
     ]
    }
   ],
   "source": [
    "x = np.array([4, 2, 4])\n",
    "y = np.array([12, 3, 4])\n",
    "norm_x = np.sqrt(vector_m(x, x))\n",
    "norm_y = np.sqrt(vector_m(y, y))\n",
    "cos_phi = vector_m(x, y) / (norm_x * norm_y)\n",
    "print(f'norm(x) = {norm_x}, norm(y) = {norm_y}, phi = {math.acos(cos_phi)*(180/math.pi)} degrees') "
   ]
  },
  {
   "cell_type": "code",
   "execution_count": 14,
   "id": "ba51e397",
   "metadata": {},
   "outputs": [
    {
     "data": {
      "text/plain": [
       "(6.0, 13.0, 26.176952171666557)"
      ]
     },
     "execution_count": 14,
     "metadata": {},
     "output_type": "execute_result"
    }
   ],
   "source": [
    "from numpy.linalg import norm\n",
    "norm(x), norm(y), math.acos(x.dot(y)/norm(x)/norm(y))*(180/math.pi)"
   ]
  },
  {
   "cell_type": "markdown",
   "id": "bf0df69f",
   "metadata": {},
   "source": [
    "#### Определите будет ли линейное пространство евклидовым если за если за скалярное произведение принять\n",
    "а) произведение длин векторов;\n",
    "\n",
    "б) утроенное обычное скалярное произведение векторов?"
   ]
  },
  {
   "cell_type": "code",
   "execution_count": 15,
   "id": "8d05a820",
   "metadata": {},
   "outputs": [],
   "source": [
    "# a)\n",
    "def vect_len_mul(a, b):\n",
    "    return norm(a) * norm(b)"
   ]
  },
  {
   "cell_type": "code",
   "execution_count": 16,
   "id": "18de4f76",
   "metadata": {},
   "outputs": [],
   "source": [
    "# б)\n",
    "def triple_scalar(a, b):\n",
    "    return 3*a.dot(b)"
   ]
  },
  {
   "cell_type": "code",
   "execution_count": 18,
   "id": "632a263d",
   "metadata": {},
   "outputs": [],
   "source": [
    "def check_axioms(func):\n",
    "    x = np.array([1, 2, 4])\n",
    "    y = np.array([4, 5, 6])\n",
    "    x1 = np.array([7, 8, 9])\n",
    "    x2 = np.array([2, 5, 11])\n",
    "    Lambda = 3\n",
    "    \n",
    "    ##1 (x ,y) = (y, x)\n",
    "    print(func(x, y) == func(y, x))\n",
    " \n",
    "    #2 (lambda*x, y) = lambda(x, y)\n",
    "    print(func(Lambda*x, y) == Lambda*func(x, y))\n",
    "\n",
    "    #3 (x1+x2, y) = (x1, y) + (x2)\n",
    "    print(func(x1+x2, y) == (func(x1, y) + func(x2, y)))\n",
    "\n",
    "    #4 (x, x) >= 0, (x, x) = 0 -> x=0\n",
    "    nul = np.array([0, 0, 0])\n",
    "    print(func(x, x) >= 0, func(nul, nul) == 0)"
   ]
  },
  {
   "cell_type": "code",
   "execution_count": 19,
   "id": "03dca494",
   "metadata": {},
   "outputs": [
    {
     "name": "stdout",
     "output_type": "stream",
     "text": [
      "CASE A:\n",
      "True\n",
      "False\n",
      "False\n",
      "True True\n",
      "------------\n",
      "CASE B\n",
      "True\n",
      "True\n",
      "True\n",
      "True True\n"
     ]
    }
   ],
   "source": [
    "print(\"CASE A:\")\n",
    "check_axioms(vect_len_mul)\n",
    "print('------------')\n",
    "print('CASE B')\n",
    "check_axioms(triple_scalar)"
   ]
  },
  {
   "cell_type": "markdown",
   "id": "87886ea4",
   "metadata": {},
   "source": [
    "#### Какие из нижеперечисленных векторов образуют ортонормированный базис в линейном пространстве  ℝ3 :"
   ]
  },
  {
   "cell_type": "markdown",
   "id": "f9dda6dc",
   "metadata": {},
   "source": [
    "а)  (1,0,0),(0,0,1); \n",
    "\n",
    "б)  (1/2‾√,−1/2‾√,0),(1/2‾√,1/2‾√,0),(0,0,1); \n",
    "\n",
    "в)  (1/2,−1/2,0),(0,1/2,1/2),(0,0,1); \n",
    "\n",
    "г)  (1,0,0),(0,1,0),(0,0,1)?"
   ]
  },
  {
   "cell_type": "markdown",
   "id": "54b02092",
   "metadata": {},
   "source": [
    "C ) лучай г является стандартным ОНБ в пространстве R\n",
    "3\n",
    ".\n",
    "В случае а не хватает одного вектора для образования трехмерного )\n",
    "базиса\n",
    "Проверим базисы б и г на выполнение свойств ОНБ вектора должны ) ) :\n",
    "быть попарно перпендикулярными скалярное произведение векторов (\n",
    "попарно равно норма каждого вектора должна быть равна 0), 1"
   ]
  },
  {
   "cell_type": "code",
   "execution_count": 20,
   "id": "6c13de8b",
   "metadata": {},
   "outputs": [
    {
     "data": {
      "text/plain": [
       "(0.0, 0.0, 0.0, 0.9999999999999999, 0.9999999999999999, 1.0)"
      ]
     },
     "execution_count": 20,
     "metadata": {},
     "output_type": "execute_result"
    }
   ],
   "source": [
    "# б)\n",
    "two_sqrt = 1/np.sqrt(2)\n",
    "b1 = np.array([two_sqrt, -two_sqrt, 0])\n",
    "b2 = np.array([two_sqrt, two_sqrt, 0])\n",
    "b3 = np.array([0, 0, 1])\n",
    "b1.dot(b2), b1.dot(b3), b2.dot(b3), norm(b1), norm(b2), norm(b3)"
   ]
  },
  {
   "cell_type": "markdown",
   "id": "abc4e24d",
   "metadata": {},
   "source": [
    "в случае б базис ортонормирован"
   ]
  },
  {
   "cell_type": "code",
   "execution_count": 21,
   "id": "d168be63",
   "metadata": {},
   "outputs": [
    {
     "data": {
      "text/plain": [
       "(-0.25, 0.0, 0.5, 0.7071067811865476, 0.7071067811865476, 1.0)"
      ]
     },
     "execution_count": 21,
     "metadata": {},
     "output_type": "execute_result"
    }
   ],
   "source": [
    "# в)\n",
    "b1 = np.array([0.5, -0.5, 0])\n",
    "b2 = np.array([0, 0.5, 0.5])\n",
    "b3 = np.array([0, 0, 1])\n",
    "b1.dot(b2), b1.dot(b3), b2.dot(b3), norm(b1), norm(b2), norm(b3)"
   ]
  },
  {
   "cell_type": "markdown",
   "id": "88befcd9",
   "metadata": {},
   "source": [
    "в не образуют ортонормированный базис"
   ]
  }
 ],
 "metadata": {
  "kernelspec": {
   "display_name": "Python 3 (ipykernel)",
   "language": "python",
   "name": "python3"
  },
  "language_info": {
   "codemirror_mode": {
    "name": "ipython",
    "version": 3
   },
   "file_extension": ".py",
   "mimetype": "text/x-python",
   "name": "python",
   "nbconvert_exporter": "python",
   "pygments_lexer": "ipython3",
   "version": "3.10.6"
  }
 },
 "nbformat": 4,
 "nbformat_minor": 5
}
