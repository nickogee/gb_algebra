{
 "cells": [
  {
   "cell_type": "code",
   "execution_count": 1,
   "id": "3e6c1e41",
   "metadata": {},
   "outputs": [],
   "source": [
    "import numpy as np"
   ]
  },
  {
   "cell_type": "markdown",
   "id": "eb48e1c3",
   "metadata": {},
   "source": [
    "1. , Установите какие произведения матриц A B и B A , определены и\n",
    "найдите размерности полученных матриц :\n",
    "а) A — матрица 4 ×2, B — матрица 4 ×2;\n",
    "б) A — матрица 2×5, B — матрица 5×3;\n",
    "в) A — матрица 8×3, B — матрица 3×8;\n",
    "г) A — квадратная матрица 4 ×4, B — квадратная матрица 4 ×4."
   ]
  },
  {
   "cell_type": "markdown",
   "id": "cd31c9da",
   "metadata": {},
   "source": [
    "Правильно:\n",
    "Произведением матрицы A=‖ai j‖, имеющей порядки m и n, и матрицы\n",
    "B=‖bi j‖, включающей порядки n и k, называется матрица C=‖ci j‖ с\n",
    "порядками m и k:\n",
    "C=\n",
    "(\n",
    "c11 c12 ⋯ c1k\n",
    "c21 c22 ⋯ c2 k\n",
    "⋯ ⋯ ⋱ ⋯\n",
    "cm1\n",
    "cm2 ⋯ cmk\n",
    ")\n",
    ",\n",
    "наполненная элементами определяемыми формулой , :\n",
    "ci j=∑\n",
    "p=1\n",
    "n\n",
    "ai p\n",
    "bp j\n",
    ".\n",
    "Матрицу A можно умножить не на любую матрицу B: важно чтобы ,\n",
    "число столбцов матрицы A было равно числу строк матрицы B.\n",
    "Проверим это условие на предложенных вариантах :\n",
    "а) A — матрица 4 ×2, B — матрица 4 ×2; - AB - 2 4, не равно перемножить\n",
    "нельзя тоже нельзя перемножить так как стобла не равно , BA - , 2( )\n",
    "количеству строк - 4\n",
    "б) A — матрица 2×5, B — матрица 5×3; - AB - , перемножить можно\n",
    "размерность х перемножить нельзя так как не равно 2 3, BA - , 3 2"
   ]
  },
  {
   "cell_type": "markdown",
   "id": "6a90db92",
   "metadata": {},
   "source": [
    "в) A — матрица 8×3, B — матрица 3×8; - AB , перемножить можно\n",
    "размерность х перемножить можно размерность х 8 8, BA , 3 3\n",
    "г) A — квадратная матрица 4 ×4, B — квадратная матрица 4 ×4. - AB, BA -\n",
    "перемножить можно размерность х , 4 4\n",
    "2. Найдите сумму и произведение матриц A=(\n",
    "1 −2\n",
    "3 0 ) и B=(\n",
    "4 −1\n",
    "0 5 )\n",
    ".\n",
    "2. Решение\n",
    "Сумма:\n",
    "(\n",
    "1 −2\n",
    "3 0 )\n",
    "+(\n",
    "4 −1\n",
    "0 5 )=(\n",
    "5 −3\n",
    "3 5 )"
   ]
  },
  {
   "cell_type": "code",
   "execution_count": 3,
   "id": "515873fe",
   "metadata": {},
   "outputs": [
    {
     "data": {
      "text/plain": [
       "array([[ 5, -3],\n",
       "       [ 3,  5]])"
      ]
     },
     "execution_count": 3,
     "metadata": {},
     "output_type": "execute_result"
    }
   ],
   "source": [
    "a = np.array([[1, -2], [3, 0]])\n",
    "b = np.array([[4, -1], [0, 5]])\n",
    "a + b\n"
   ]
  },
  {
   "cell_type": "code",
   "execution_count": 4,
   "id": "67b84444",
   "metadata": {},
   "outputs": [
    {
     "data": {
      "text/plain": [
       "array([[  4, -11],\n",
       "       [ 12,  -3]])"
      ]
     },
     "execution_count": 4,
     "metadata": {},
     "output_type": "execute_result"
    }
   ],
   "source": [
    "np.dot(a, b)"
   ]
  },
  {
   "cell_type": "code",
   "execution_count": 5,
   "id": "75ef347b",
   "metadata": {},
   "outputs": [
    {
     "data": {
      "text/plain": [
       "array([[ 11,  -5],\n",
       "       [  9, -12]])"
      ]
     },
     "execution_count": 5,
     "metadata": {},
     "output_type": "execute_result"
    }
   ],
   "source": [
    "a = np.array([[1, 7], [3, -6]])\n",
    "b = np.array([[0, 5], [2, -1]])\n",
    "c = np.array([[2, -4], [1, 1]])\n",
    "3 * a + (-2) * b + 4 * c"
   ]
  },
  {
   "cell_type": "markdown",
   "id": "f7d96ccb",
   "metadata": {},
   "source": [
    ". Дана матрица A=(\n",
    "4 1\n",
    "5 −2\n",
    "2 3 )\n",
    ". Вычислите A A\n",
    "T\n",
    " и A\n",
    "T\n",
    "A."
   ]
  },
  {
   "cell_type": "code",
   "execution_count": 6,
   "id": "593edd07",
   "metadata": {},
   "outputs": [
    {
     "data": {
      "text/plain": [
       "array([[ 4,  5,  2],\n",
       "       [ 1, -2,  3]])"
      ]
     },
     "execution_count": 6,
     "metadata": {},
     "output_type": "execute_result"
    }
   ],
   "source": [
    "A = np.array([[4, 1], [5, -2], [2, 3]])\n",
    "A.T"
   ]
  },
  {
   "cell_type": "code",
   "execution_count": 7,
   "id": "6b3dee50",
   "metadata": {},
   "outputs": [
    {
     "data": {
      "text/plain": [
       "array([[17, 18, 11],\n",
       "       [18, 29,  4],\n",
       "       [11,  4, 13]])"
      ]
     },
     "execution_count": 7,
     "metadata": {},
     "output_type": "execute_result"
    }
   ],
   "source": [
    "np.dot(A, A.T)"
   ]
  },
  {
   "cell_type": "code",
   "execution_count": 8,
   "id": "8134009b",
   "metadata": {},
   "outputs": [
    {
     "data": {
      "text/plain": [
       "array([[45,  0],\n",
       "       [ 0, 14]])"
      ]
     },
     "execution_count": 8,
     "metadata": {},
     "output_type": "execute_result"
    }
   ],
   "source": [
    "np.dot(A.T, A)"
   ]
  },
  {
   "cell_type": "markdown",
   "id": "fb4df673",
   "metadata": {},
   "source": [
    "### Практическое задание. Часть 2"
   ]
  },
  {
   "cell_type": "code",
   "execution_count": 9,
   "id": "c47e6a4a",
   "metadata": {},
   "outputs": [
    {
     "data": {
      "text/plain": [
       "180.0"
      ]
     },
     "execution_count": 9,
     "metadata": {},
     "output_type": "execute_result"
    }
   ],
   "source": [
    "b = np.array([[4, 2, 3], [0, 5, 1], [0, 0, 9]])\n",
    "np.linalg.det(b)"
   ]
  },
  {
   "cell_type": "code",
   "execution_count": 10,
   "id": "c1b4bf14",
   "metadata": {},
   "outputs": [
    {
     "data": {
      "text/plain": [
       "0.0"
      ]
     },
     "execution_count": 10,
     "metadata": {},
     "output_type": "execute_result"
    }
   ],
   "source": [
    "c = np.array([[1, 2, 3], [4, 5, 6], [7, 8, 9]])\n",
    "round(np.linalg.det(c), 2)"
   ]
  },
  {
   "cell_type": "markdown",
   "id": "64655cae",
   "metadata": {},
   "source": [
    "2. Определитель матрицы A равен 4. : Найдите\n",
    "а) d e t ( A\n",
    "2\n",
    ");\n",
    "б) d e t ( A\n",
    "T\n",
    ");\n",
    "в) d e t (2 A)."
   ]
  },
  {
   "cell_type": "code",
   "execution_count": 11,
   "id": "921e0480",
   "metadata": {},
   "outputs": [
    {
     "data": {
      "text/plain": [
       "0.0"
      ]
     },
     "execution_count": 11,
     "metadata": {},
     "output_type": "execute_result"
    }
   ],
   "source": [
    "c = np.array([[-2, 7, -3], [4, -14, 6],[-3, 7, 13]])\n",
    "np.linalg.det(c)"
   ]
  },
  {
   "cell_type": "code",
   "execution_count": 12,
   "id": "4eae279c",
   "metadata": {},
   "outputs": [
    {
     "data": {
      "text/plain": [
       "2"
      ]
     },
     "execution_count": 12,
     "metadata": {},
     "output_type": "execute_result"
    }
   ],
   "source": [
    "a = np.array([[1, 2, 3], [1, 1, 1],[2, 3, 4]])\n",
    "np.linalg.matrix_rank(a)"
   ]
  },
  {
   "cell_type": "code",
   "execution_count": null,
   "id": "061525ae",
   "metadata": {},
   "outputs": [],
   "source": []
  }
 ],
 "metadata": {
  "kernelspec": {
   "display_name": "Python 3 (ipykernel)",
   "language": "python",
   "name": "python3"
  },
  "language_info": {
   "codemirror_mode": {
    "name": "ipython",
    "version": 3
   },
   "file_extension": ".py",
   "mimetype": "text/x-python",
   "name": "python",
   "nbconvert_exporter": "python",
   "pygments_lexer": "ipython3",
   "version": "3.10.6"
  }
 },
 "nbformat": 4,
 "nbformat_minor": 5
}
